{
 "cells": [
  {
   "cell_type": "markdown",
   "metadata": {},
   "source": [
    "# Statistical Analysis\n",
    "\n",
    "\n",
    "## Mean, Median and Mode"
   ]
  },
  {
   "cell_type": "code",
   "execution_count": 1,
   "metadata": {},
   "outputs": [],
   "source": [
    "import numpy as np"
   ]
  },
  {
   "cell_type": "code",
   "execution_count": 20,
   "metadata": {},
   "outputs": [
    {
     "name": "stdout",
     "output_type": "stream",
     "text": [
      "The Mean of the speed is 105.36:\n"
     ]
    }
   ],
   "source": [
    "speed=[99,86,87,88,111,86,99,49,234,100,120]\n",
    "sol=np.mean(speed)\n",
    "print(f'The Mean of the speed is {sol:.2f}:')"
   ]
  },
  {
   "cell_type": "code",
   "execution_count": 26,
   "metadata": {},
   "outputs": [
    {
     "name": "stdout",
     "output_type": "stream",
     "text": [
      "The Median of the speed is 99.00 \n"
     ]
    }
   ],
   "source": [
    "speed=[99,86,87,88,111,86,99,49,234,100,120]\n",
    "speed1=np.sort(speed)\n",
    "sol1=np.median(speed1)\n",
    "print(f'The Median of the speed is {sol1:.2f} ')"
   ]
  },
  {
   "cell_type": "code",
   "execution_count": 30,
   "metadata": {},
   "outputs": [
    {
     "name": "stdout",
     "output_type": "stream",
     "text": [
      "ModeResult(mode=array([86]), count=array([2]))\n"
     ]
    }
   ],
   "source": [
    "from scipy import stats\n",
    "speed=[99,86,87,88,111,86,99,49,234,100,120]\n",
    "sol2=stats.mode(speed)\n",
    "print(sol2)\n",
    "#print(f'The Mode of the speed is {sol2:.2f}')"
   ]
  },
  {
   "cell_type": "code",
   "execution_count": 34,
   "metadata": {},
   "outputs": [
    {
     "name": "stdout",
     "output_type": "stream",
     "text": [
      "The Standard Deviation of the speed is 44.18\n"
     ]
    }
   ],
   "source": [
    "sol3=np.std(speed)\n",
    "print(f'The Standard Deviation of the speed is {sol3:.2f}')"
   ]
  },
  {
   "cell_type": "markdown",
   "metadata": {},
   "source": [
    "## Quartile"
   ]
  },
  {
   "cell_type": "code",
   "execution_count": 33,
   "metadata": {},
   "outputs": [
    {
     "name": "stdout",
     "output_type": "stream",
     "text": [
      "3.0\n",
      "5.5\n",
      "7.0\n",
      "4.0\n"
     ]
    }
   ],
   "source": [
    "data =[1,3,3,4,5,6,6,7,8,8]\n",
    "# first quartile (Q1)\n",
    "Q1=np.median(data[:5])\n",
    "print(Q1)\n",
    "# second quartile (Q2)\n",
    "Q2=np.median(data)\n",
    "print(Q2)\n",
    "# third quartile (Q3)\n",
    "Q3=np.median(data[5:])\n",
    "print(Q3)\n",
    "IQR = Q3 -Q1\n",
    "print(IQR)"
   ]
  },
  {
   "cell_type": "code",
   "execution_count": null,
   "metadata": {},
   "outputs": [],
   "source": []
  }
 ],
 "metadata": {
  "kernelspec": {
   "display_name": "Python 3",
   "language": "python",
   "name": "python3"
  },
  "language_info": {
   "codemirror_mode": {
    "name": "ipython",
    "version": 3
   },
   "file_extension": ".py",
   "mimetype": "text/x-python",
   "name": "python",
   "nbconvert_exporter": "python",
   "pygments_lexer": "ipython3",
   "version": "3.8.5"
  }
 },
 "nbformat": 4,
 "nbformat_minor": 4
}
